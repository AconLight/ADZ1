{
 "cells": [
  {
   "cell_type": "code",
   "execution_count": 1,
   "outputs": [],
   "source": [
    "import pandas as pd"
   ],
   "metadata": {
    "collapsed": false,
    "pycharm": {
     "name": "#%%\n",
     "is_executing": false
    }
   }
  },
  {
   "cell_type": "code",
   "execution_count": 2,
   "outputs": [],
   "source": [
    "def falling(x, a, b):\n",
    "    if x <= a:\n",
    "        return 1\n",
    "    elif a < x <= b:\n",
    "        return (b - x) / (b - a)\n",
    "    else:\n",
    "        return 0\n",
    "    \n",
    "def triangular(x, a, b, c):\n",
    "    if x <= a:\n",
    "     return 0\n",
    "    elif a < x <= b:\n",
    "        return (x - a) / (b - a)\n",
    "    elif b < x <= c:\n",
    "        return (c - x) / (c - b)\n",
    "    else:\n",
    "      return 0\n",
    "    \n",
    "def trapezoidal(x, a, b, c, d):\n",
    "    if x <= a:\n",
    "     return 0\n",
    "    elif a < x <= b:\n",
    "        return (x - a) / (b - a)\n",
    "    elif b < x <= c:\n",
    "        return 1\n",
    "    elif c < x <= d:\n",
    "        return (d - x) / (d - c)\n",
    "    else:\n",
    "        return 0\n",
    "    \n",
    "def rising(x, a, b):\n",
    "    if x <= a:\n",
    "        return 0\n",
    "    elif a < x <= b:\n",
    "        return (x - a) / (b - a)\n",
    "    else:\n",
    "        return 1"
   ],
   "metadata": {
    "collapsed": false,
    "pycharm": {
     "name": "#%%\n",
     "is_executing": false
    }
   }
  },
  {
   "cell_type": "code",
   "execution_count": 3,
   "outputs": [],
   "source": [
    "players = pd.read_csv(\"all_seasons.csv\")\n",
    "players = players[[\"player_name\", \"age\", \"player_height\", \"player_weight\"]]\n",
    "players['young_age'] = players['age'].apply(lambda age: falling(age, 20, 40))\n",
    "players['medium_age'] = players['age'].apply(lambda age: trapezoidal(age, 30,40,45,55))\n",
    "players['old_age'] = players['age'].apply(lambda age: rising(age, 50,65))\n",
    "\n",
    "players['low_weight'] = players['player_weight'].apply(lambda weight: falling(weight, 65, 80))\n",
    "players['medium_weight'] = players['player_weight'].apply(lambda weight: triangular(weight, 75, 80, 95))\n",
    "players['high_weight'] = players['player_weight'].apply(lambda weight: rising(weight, 90, 110))\n",
    "\n",
    "players['short_height']= players['player_height'].apply(lambda height: falling(height, 150, 170))\n",
    "players['medium_height']= players['player_height'].apply(lambda height: triangular(height, 160, 180, 185))\n",
    "players['tall_height']= players['player_height'].apply(lambda height: trapezoidal(height, 180, 185,195, 205))\n",
    "players['very_tall_height']= players['player_height'].apply(lambda height: rising(height, 200, 210))\n",
    "\n",
    "players.to_excel(\"NBA_classic.xlsx\",\n",
    "             sheet_name='Sheet_name_1')  "
   ],
   "metadata": {
    "collapsed": false,
    "pycharm": {
     "name": "#%%\n",
     "is_executing": false
    }
   }
  },
  {
   "cell_type": "code",
   "execution_count": 11,
   "outputs": [
    {
     "name": "stdout",
     "text": [
      "0.407718085031967\n"
     ],
     "output_type": "stream"
    }
   ],
   "source": [
    "r_young_tall = players.apply(lambda row: row['young_age']*row['tall_height'], axis=1).sum()/sum(players['young_age'])\n",
    "print(r_young_tall)"
   ],
   "metadata": {
    "collapsed": false,
    "pycharm": {
     "name": "#%%\n",
     "is_executing": false
    }
   }
  },
  {
   "cell_type": "code",
   "execution_count": 12,
   "outputs": [
    {
     "name": "stdout",
     "text": [
      "0.6431981180296563\n"
     ],
     "output_type": "stream"
    }
   ],
   "source": [
    "r_tall_young = players.apply(lambda row: row['young_age']*row['tall_height'], axis=1).sum()/sum(players['tall_height'])\n",
    "print(r_tall_young)"
   ],
   "metadata": {
    "collapsed": false,
    "pycharm": {
     "name": "#%%\n",
     "is_executing": false
    }
   }
  },
  {
   "cell_type": "code",
   "execution_count": 13,
   "outputs": [
    {
     "name": "stdout",
     "text": [
      "0.3687586843688352\n"
     ],
     "output_type": "stream"
    }
   ],
   "source": [
    "r_young_very_tall = players.apply(lambda row: row['young_age']*row['very_tall_height'], axis=1).sum()/sum(players['young_age'])\n",
    "print(r_young_very_tall)"
   ],
   "metadata": {
    "collapsed": false,
    "pycharm": {
     "name": "#%%\n",
     "is_executing": false
    }
   }
  },
  {
   "cell_type": "code",
   "execution_count": 14,
   "outputs": [
    {
     "name": "stdout",
     "text": [
      "0.00853971765693419\n"
     ],
     "output_type": "stream"
    }
   ],
   "source": [
    "r_young_low_weight = players.apply(lambda row: row['young_age']*row['low_weight'], axis=1).sum()/sum(players['young_age'])\n",
    "print(r_young_low_weight)"
   ],
   "metadata": {
    "collapsed": false,
    "pycharm": {
     "name": "#%%\n",
     "is_executing": false
    }
   }
  },
  {
   "cell_type": "code",
   "execution_count": 16,
   "outputs": [
    {
     "name": "stdout",
     "text": [
      "0.15492981000853379\n"
     ],
     "output_type": "stream"
    }
   ],
   "source": [
    "r_young_medium_weight = players.apply(lambda row: row['young_age']*row['medium_weight'], axis=1).sum()/sum(players['young_age'])\n",
    "print(r_young_medium_weight)"
   ],
   "metadata": {
    "collapsed": false,
    "pycharm": {
     "name": "#%%\n",
     "is_executing": false
    }
   }
  },
  {
   "cell_type": "code",
   "execution_count": 17,
   "outputs": [
    {
     "name": "stdout",
     "text": [
      "0.5074695746191183\n"
     ],
     "output_type": "stream"
    }
   ],
   "source": [
    "r_young_high_weight = players.apply(lambda row: row['young_age']*row['high_weight'], axis=1).sum()/sum(players['young_age'])\n",
    "print(r_young_high_weight)"
   ],
   "metadata": {
    "collapsed": false,
    "pycharm": {
     "name": "#%%\n",
     "is_executing": false
    }
   }
  },
  {
   "cell_type": "code",
   "execution_count": 18,
   "outputs": [
    {
     "name": "stdout",
     "text": [
      "0.1599939840998341\n"
     ],
     "output_type": "stream"
    }
   ],
   "source": [
    "r_tall_high_weight = players.apply(lambda row: row['tall_height']*row['high_weight'], axis=1).sum()/sum(players['high_weight'])\n",
    "print(r_tall_high_weight)"
   ],
   "metadata": {
    "collapsed": false,
    "pycharm": {
     "name": "#%%\n",
     "is_executing": false
    }
   }
  }
 ],
 "metadata": {
  "kernelspec": {
   "display_name": "Python 3",
   "language": "python",
   "name": "python3"
  },
  "language_info": {
   "codemirror_mode": {
    "name": "ipython",
    "version": 2
   },
   "file_extension": ".py",
   "mimetype": "text/x-python",
   "name": "python",
   "nbconvert_exporter": "python",
   "pygments_lexer": "ipython2",
   "version": "2.7.6"
  },
  "pycharm": {
   "stem_cell": {
    "cell_type": "raw",
    "source": [],
    "metadata": {
     "collapsed": false
    }
   }
  }
 },
 "nbformat": 4,
 "nbformat_minor": 0
}