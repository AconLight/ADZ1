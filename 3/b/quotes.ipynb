{
 "cells": [
  {
   "cell_type": "code",
   "execution_count": 3,
   "outputs": [],
   "source": [
    "import pandas as pd"
   ],
   "metadata": {
    "collapsed": false,
    "pycharm": {
     "name": "#%%\n",
     "is_executing": false
    }
   }
  },
  {
   "cell_type": "code",
   "execution_count": 8,
   "outputs": [],
   "source": [
    "def falling(x, a, b):\n",
    "    if x <= a:\n",
    "        return 1\n",
    "    elif a < x <= b:\n",
    "        return (b - x) / (b - a)\n",
    "    else:\n",
    "        return 0\n",
    "    \n",
    "def triangular(x, a, b, c):\n",
    "    if x <= a:\n",
    "     return 0\n",
    "    elif a < x <= b:\n",
    "        return (x - a) / (b - a)\n",
    "    elif b < x <= c:\n",
    "        return (c - x) / (c - b)\n",
    "    else:\n",
    "      return 0\n",
    "    \n",
    "def trapezoidal(x, a, b, c, d):\n",
    "    if x <= a:\n",
    "     return 0\n",
    "    elif a < x <= b:\n",
    "        return (x - a) / (b - a)\n",
    "    elif b < x <= c:\n",
    "        return 1\n",
    "    elif c < x <= d:\n",
    "        return (d - x) / (d - c)\n",
    "    else:\n",
    "        return 0\n",
    "    \n",
    "def rising(x, a, b):\n",
    "    if x <= a:\n",
    "        return 0\n",
    "    elif a < x <= b:\n",
    "        return (x - a) / (b - a)\n",
    "    else:\n",
    "        return 1"
   ],
   "metadata": {
    "collapsed": false,
    "pycharm": {
     "name": "#%%\n",
     "is_executing": false
    }
   }
  },
  {
   "cell_type": "code",
   "execution_count": 10,
   "outputs": [],
   "source": [
    "players = pd.read_csv(\"all_seasons.csv\")\n",
    "players = players[[\"player_name\", \"age\", \"player_height\", \"player_weight\"]]\n",
    "players['young_age'] = players['age'].apply(lambda age: falling(age, 20, 40))\n",
    "players['medium_age'] = players['age'].apply(lambda age: trapezoidal(age, 30,40,45,55))\n",
    "players['old_age'] = players['age'].apply(lambda age: rising(age, 50,65))\n",
    "\n",
    "players['low_weight'] = players['player_weight'].apply(lambda weight: falling(weight, 65, 80))\n",
    "players['medium_weight'] = players['player_weight'].apply(lambda weight: triangular(weight, 75, 80, 95))\n",
    "players['high_weight'] = players['player_weight'].apply(lambda weight: rising(weight, 90, 110))\n",
    "\n",
    "players['short_height']= players['player_height'].apply(lambda height: falling(height, 150, 170))\n",
    "players['medium_height']= players['player_height'].apply(lambda height: triangular(height, 160, 180, 185))\n",
    "players['tall_height']= players['player_height'].apply(lambda height: trapezoidal(height, 180, 185,195, 205))\n",
    "players['very_tall_height']= players['player_height'].apply(lambda height: rising(height, 200, 210))\n",
    "\n",
    "players.to_excel(\"players.xlsx\",\n",
    "             sheet_name='Sheet_name_1')  \n"
   ],
   "metadata": {
    "collapsed": false,
    "pycharm": {
     "name": "#%%\n",
     "is_executing": false
    }
   }
  }
 ],
 "metadata": {
  "kernelspec": {
   "display_name": "Python 3",
   "language": "python",
   "name": "python3"
  },
  "language_info": {
   "codemirror_mode": {
    "name": "ipython",
    "version": 2
   },
   "file_extension": ".py",
   "mimetype": "text/x-python",
   "name": "python",
   "nbconvert_exporter": "python",
   "pygments_lexer": "ipython2",
   "version": "2.7.6"
  },
  "pycharm": {
   "stem_cell": {
    "cell_type": "raw",
    "source": [],
    "metadata": {
     "collapsed": false
    }
   }
  }
 },
 "nbformat": 4,
 "nbformat_minor": 0
}