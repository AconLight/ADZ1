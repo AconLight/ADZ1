{
 "cells": [
  {
   "cell_type": "code",
   "execution_count": 1,
   "outputs": [],
   "source": [
    "import pandas as pd"
   ],
   "metadata": {
    "collapsed": false,
    "pycharm": {
     "name": "#%%\n",
     "is_executing": false
    }
   }
  },
  {
   "cell_type": "code",
   "execution_count": 12,
   "outputs": [],
   "source": [
    "def falling(x, a, b):\n",
    "    if x <= a:\n",
    "        return 1\n",
    "    elif a < x <= b:\n",
    "        return (b - x) / (b - a)\n",
    "    else:\n",
    "        return 0\n",
    "    \n",
    "def falling_min(x, a, b, min):\n",
    "    if x <= a:\n",
    "        return min\n",
    "    elif a < x <= b:\n",
    "        return (x-b)*min/(a-b)\n",
    "    else:\n",
    "        return 0\n",
    "    \n",
    "def triangular(x, a, b, c):\n",
    "    if x <= a:\n",
    "     return 0\n",
    "    elif a < x <= b:\n",
    "        return (x - a) / (b - a)\n",
    "    elif b < x <= c:\n",
    "        return (c - x) / (c - b)\n",
    "    else:\n",
    "      return 0\n",
    "\n",
    "def triangular_min(x, a, b, c, min):\n",
    "    if x <= a:\n",
    "     return 0\n",
    "    elif a < x <= b:\n",
    "        return (x-a)*min/(b-a)\n",
    "    elif b < x <= c:\n",
    "        return (x-c)*min/(b-c)\n",
    "    else:\n",
    "      return 0\n",
    "    \n",
    "def trapezoidal(x, a, b, c, d):\n",
    "    if x <= a:\n",
    "     return 0\n",
    "    elif a < x <= b:\n",
    "        return (x - a) / (b - a)\n",
    "    elif b < x <= c:\n",
    "        return 1\n",
    "    elif c < x <= d:\n",
    "        return (d - x) / (d - c)\n",
    "    else:\n",
    "        return 0\n",
    "    \n",
    "def trapezoidal_min(x, a, b, c, d, min):\n",
    "    if x <= a:\n",
    "     return 0\n",
    "    elif a < x <= b:\n",
    "        return (x-a)*min/(b-a)\n",
    "    elif b < x <= c:\n",
    "        return min\n",
    "    elif c < x <= d:\n",
    "        return (x-d)*min/(c-d)\n",
    "    else:\n",
    "        return 0\n",
    "def rising(x, a, b):\n",
    "    if x <= a:\n",
    "        return 0\n",
    "    elif a < x <= b:\n",
    "        return (x - a) / (b - a)\n",
    "    else:\n",
    "        return 1\n",
    "\n",
    "def rising_min(x, a, b, min):\n",
    "    if x <= a:\n",
    "        return 0\n",
    "    elif a < x <= b:\n",
    "        return (x-a)*min/(b-a)\n",
    "    else:\n",
    "        return min"
   ],
   "metadata": {
    "collapsed": false,
    "pycharm": {
     "name": "#%%\n",
     "is_executing": false
    }
   }
  },
  {
   "cell_type": "code",
   "execution_count": 17,
   "outputs": [],
   "source": [
    "players = pd.read_csv(\"all_seasons.csv\")"
   ],
   "metadata": {
    "collapsed": false,
    "pycharm": {
     "name": "#%%\n",
     "is_executing": false
    }
   }
  },
  {
   "cell_type": "code",
   "execution_count": 18,
   "outputs": [],
   "source": [
    "players = players[[\"player_name\", \"age\", \"player_height\", \"player_weight\"]]\n",
    "players['young_age_min'] = players['age'].apply(lambda age: falling_min(age, 20, 40, 0.8))\n",
    "players['young_age_max'] = players['age'].apply(lambda age: falling(age, 20, 40))\n",
    "\n",
    "players['medium_age_min'] = players['age'].apply(lambda age: trapezoidal_min(age, 30,40,45,55, 0.8))\n",
    "players['medium_age_max'] = players['age'].apply(lambda age: trapezoidal(age, 30,40,45,55))\n",
    "\n",
    "players['old_age_min'] = players['age'].apply(lambda age: rising_min(age, 50,65, 0.8))\n",
    "players['old_age_max'] = players['age'].apply(lambda age: rising(age, 50,65))"
   ],
   "metadata": {
    "collapsed": false,
    "pycharm": {
     "name": "#%%\n",
     "is_executing": false
    }
   }
  },
  {
   "cell_type": "code",
   "execution_count": 19,
   "outputs": [],
   "source": [
    "players['low_weight_min'] = players['player_weight'].apply(lambda weight: falling_min(weight, 65, 80, 0.8))\n",
    "players['low_weight_max'] = players['player_weight'].apply(lambda weight: falling(weight, 65, 80))\n",
    "\n",
    "players['medium_weight_min'] = players['player_weight'].apply(lambda weight: triangular_min(weight, 75, 80, 95, 0.8))\n",
    "players['medium_weight_max'] = players['player_weight'].apply(lambda weight: triangular(weight, 75, 80, 95))\n",
    "\n",
    "players['high_weight_min'] = players['player_weight'].apply(lambda weight: rising_min(weight, 90, 110, 0.8))\n",
    "players['high_weight_max'] = players['player_weight'].apply(lambda weight: rising(weight, 90, 110))"
   ],
   "metadata": {
    "collapsed": false,
    "pycharm": {
     "name": "#%%\n",
     "is_executing": false
    }
   }
  },
  {
   "cell_type": "code",
   "execution_count": 20,
   "outputs": [],
   "source": [
    "players['short_height_min']= players['player_height'].apply(lambda height: falling_min(height, 150, 170, 0.8))\n",
    "players['short_height_max']= players['player_height'].apply(lambda height: falling(height, 150, 170))\n",
    "\n",
    "players['medium_height_min']= players['player_height'].apply(lambda height: triangular_min(height, 160, 180, 185, 0.8))\n",
    "players['medium_height_max']= players['player_height'].apply(lambda height: triangular(height, 160, 180, 185))\n",
    "\n",
    "players['tall_height_min']= players['player_height'].apply(lambda height: trapezoidal_min(height, 180, 185,195, 205, 0.8))\n",
    "players['tall_height_max']= players['player_height'].apply(lambda height: trapezoidal(height, 180, 185,195, 205))\n",
    "\n",
    "players['very_tall_height_min']= players['player_height'].apply(lambda height: rising_min(height, 200, 210, 0.8))\n",
    "players['very_tall_height_max']= players['player_height'].apply(lambda height: rising(height, 200, 210))"
   ],
   "metadata": {
    "collapsed": false,
    "pycharm": {
     "name": "#%%\n",
     "is_executing": false
    }
   }
  },
  {
   "cell_type": "code",
   "execution_count": 21,
   "outputs": [],
   "source": [
    "players.to_excel(\"players.xlsx\", sheet_name='Sheet_name_1')  \n"
   ],
   "metadata": {
    "collapsed": false,
    "pycharm": {
     "name": "#%%\n",
     "is_executing": false
    }
   }
  }
 ],
 "metadata": {
  "kernelspec": {
   "display_name": "Python 3",
   "language": "python",
   "name": "python3"
  },
  "language_info": {
   "codemirror_mode": {
    "name": "ipython",
    "version": 2
   },
   "file_extension": ".py",
   "mimetype": "text/x-python",
   "name": "python",
   "nbconvert_exporter": "python",
   "pygments_lexer": "ipython2",
   "version": "2.7.6"
  },
  "pycharm": {
   "stem_cell": {
    "cell_type": "raw",
    "source": [],
    "metadata": {
     "collapsed": false
    }
   }
  }
 },
 "nbformat": 4,
 "nbformat_minor": 0
}